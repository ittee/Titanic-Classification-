{
  "nbformat": 4,
  "nbformat_minor": 0,
  "metadata": {
    "colab": {
      "provenance": [],
      "authorship_tag": "ABX9TyMI23rb0G/+X4wCjOtz6TSy",
      "include_colab_link": true
    },
    "kernelspec": {
      "name": "python3",
      "display_name": "Python 3"
    },
    "language_info": {
      "name": "python"
    }
  },
  "cells": [
    {
      "cell_type": "markdown",
      "metadata": {
        "id": "view-in-github",
        "colab_type": "text"
      },
      "source": [
        "<a href=\"https://colab.research.google.com/github/ittee/Titanic-Classification-/blob/main/Task_1_Titanic_Classification.ipynb\" target=\"_parent\"><img src=\"https://colab.research.google.com/assets/colab-badge.svg\" alt=\"Open In Colab\"/></a>"
      ]
    },
    {
      "cell_type": "code",
      "execution_count": null,
      "metadata": {
        "id": "4-WF7HDbYCQt"
      },
      "outputs": [],
      "source": []
    },
    {
      "cell_type": "code",
      "source": [
        "import seaborn as sns\n",
        "import pandas as pd\n",
        "import numpy as np\n",
        "from sklearn.model_selection import train_test_split\n",
        "from sklearn.linear_model import LogisticRegression\n",
        "from sklearn.metrics import accuracy_score, confusion_matrix\n",
        "from sklearn.preprocessing import LabelEncoder\n",
        "\n",
        "# Titanic dataset load from Seaborn\n",
        "data = sns.load_dataset('titanic')\n",
        "\n",
        "# Check the first few rows of the dataset\n",
        "print(data.head())\n",
        "\n",
        "# Handle missing values\n",
        "data['age'].fillna(data['age'].mean(), inplace=True)  # Fill missing age values with mean\n",
        "data['embarked'].fillna(data['embarked'].mode()[0], inplace=True)  # Fill missing embarked values with mode\n",
        "data.dropna(subset=['sex'], inplace=True)  # Drop rows where 'sex' column has missing values\n",
        "\n",
        "# Encode categorical features: 'sex', 'embarked'\n",
        "label_encoder = LabelEncoder()\n",
        "data['sex'] = label_encoder.fit_transform(data['sex'])  # male = 0, female = 1\n",
        "data['embarked'] = data['embarked'].map({'C': 0, 'Q': 1, 'S': 2})  # C = 0, Q = 1, S = 2\n",
        "\n",
        "# Feature selection: Select relevant features for the model\n",
        "X = data[['pclass', 'sex', 'age', 'sibsp', 'parch', 'fare', 'embarked']]  # Independent variables\n",
        "y = data['survived']  # Dependent variable\n",
        "\n",
        "# Train-Test Split\n",
        "X_train, X_test, y_train, y_test = train_test_split(X, y, test_size=0.2, random_state=42)\n",
        "\n",
        "# Model training using Logistic Regression\n",
        "model = LogisticRegression(max_iter=200)\n",
        "model.fit(X_train, y_train)\n",
        "\n",
        "# Model evaluation: Predicting survival for the test set\n",
        "y_pred = model.predict(X_test)\n",
        "\n",
        "# Accuracy of the model\n",
        "accuracy = accuracy_score(y_test, y_pred)\n",
        "print(f\"Accuracy: {accuracy * 100:.2f}%\")\n",
        "\n",
        "# Confusion matrix to show the performance in detail\n",
        "conf_matrix = confusion_matrix(y_test, y_pred)\n",
        "print(\"Confusion Matrix:\")\n",
        "print(conf_matrix)\n",
        "\n",
        "# Display the first 5 predictions\n",
        "for i in range(5):\n",
        "    print(f\"Passenger {i+1}: {'Survived' if y_pred[i] == 1 else 'Did not survive'}\")"
      ],
      "metadata": {
        "colab": {
          "base_uri": "https://localhost:8080/"
        },
        "id": "re-1VT2iZ4yX",
        "outputId": "fa876c8b-7fc0-428d-ed92-10cb4b3cbabe"
      },
      "execution_count": null,
      "outputs": [
        {
          "output_type": "stream",
          "name": "stdout",
          "text": [
            "   survived  pclass     sex   age  sibsp  parch     fare embarked  class  \\\n",
            "0         0       3    male  22.0      1      0   7.2500        S  Third   \n",
            "1         1       1  female  38.0      1      0  71.2833        C  First   \n",
            "2         1       3  female  26.0      0      0   7.9250        S  Third   \n",
            "3         1       1  female  35.0      1      0  53.1000        S  First   \n",
            "4         0       3    male  35.0      0      0   8.0500        S  Third   \n",
            "\n",
            "     who  adult_male deck  embark_town alive  alone  \n",
            "0    man        True  NaN  Southampton    no  False  \n",
            "1  woman       False    C    Cherbourg   yes  False  \n",
            "2  woman       False  NaN  Southampton   yes   True  \n",
            "3  woman       False    C  Southampton   yes  False  \n",
            "4    man        True  NaN  Southampton    no   True  \n",
            "Accuracy: 81.01%\n",
            "Confusion Matrix:\n",
            "[[90 15]\n",
            " [19 55]]\n",
            "Passenger 1: Did not survive\n",
            "Passenger 2: Did not survive\n",
            "Passenger 3: Did not survive\n",
            "Passenger 4: Survived\n",
            "Passenger 5: Survived\n"
          ]
        },
        {
          "output_type": "stream",
          "name": "stderr",
          "text": [
            "<ipython-input-1-8035c1bf47e4>:16: FutureWarning: A value is trying to be set on a copy of a DataFrame or Series through chained assignment using an inplace method.\n",
            "The behavior will change in pandas 3.0. This inplace method will never work because the intermediate object on which we are setting values always behaves as a copy.\n",
            "\n",
            "For example, when doing 'df[col].method(value, inplace=True)', try using 'df.method({col: value}, inplace=True)' or df[col] = df[col].method(value) instead, to perform the operation inplace on the original object.\n",
            "\n",
            "\n",
            "  data['age'].fillna(data['age'].mean(), inplace=True)  # Fill missing age values with mean\n",
            "<ipython-input-1-8035c1bf47e4>:17: FutureWarning: A value is trying to be set on a copy of a DataFrame or Series through chained assignment using an inplace method.\n",
            "The behavior will change in pandas 3.0. This inplace method will never work because the intermediate object on which we are setting values always behaves as a copy.\n",
            "\n",
            "For example, when doing 'df[col].method(value, inplace=True)', try using 'df.method({col: value}, inplace=True)' or df[col] = df[col].method(value) instead, to perform the operation inplace on the original object.\n",
            "\n",
            "\n",
            "  data['embarked'].fillna(data['embarked'].mode()[0], inplace=True)  # Fill missing embarked values with mode\n"
          ]
        }
      ]
    }
  ]
}